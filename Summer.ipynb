{
 "cells": [
  {
   "cell_type": "markdown",
   "metadata": {},
   "source": [
    "# Summer Olympics Data Analysis Assignment"
   ]
  },
  {
   "cell_type": "code",
   "execution_count": 1,
   "metadata": {},
   "outputs": [],
   "source": [
    "#it is mandatory to run this cell\n",
    "import pandas as pd\n",
    "df = pd.read_csv('summer.csv')"
   ]
  },
  {
   "cell_type": "markdown",
   "metadata": {},
   "source": [
    "### 1. In how many cities Summer Olympics is held so far?"
   ]
  },
  {
   "cell_type": "code",
   "execution_count": 2,
   "metadata": {},
   "outputs": [
    {
     "name": "stdout",
     "output_type": "stream",
     "text": [
      "22\n"
     ]
    }
   ],
   "source": [
    "print(len(df['City'].unique()))"
   ]
  },
  {
   "cell_type": "markdown",
   "metadata": {},
   "source": [
    "### 2. Which sport is having most number of Gold Medals so far? (Top 5)"
   ]
  },
  {
   "cell_type": "code",
   "execution_count": 3,
   "metadata": {},
   "outputs": [
    {
     "name": "stdout",
     "output_type": "stream",
     "text": [
      "Sport     \n",
      "Aquatics      1421\n",
      "Athletics     1215\n",
      "Rowing         890\n",
      "Gymnastics     820\n",
      "Fencing        552\n",
      "dtype: int64\n"
     ]
    }
   ],
   "source": [
    "tf = df.drop(['Year', 'City', 'Discipline', 'Athlete', 'Country', 'Gender', 'Event'], axis =1, inplace = False)\n",
    "tf = tf[tf['Medal'] == 'Gold']\n",
    "tf = tf.drop(['Medal'], axis =1)\n",
    "print(tf.value_counts().iloc[:5])"
   ]
  },
  {
   "cell_type": "markdown",
   "metadata": {},
   "source": [
    "### 3. Which sport is having most number of medals so far? (Top 5)"
   ]
  },
  {
   "cell_type": "code",
   "execution_count": 4,
   "metadata": {},
   "outputs": [
    {
     "name": "stdout",
     "output_type": "stream",
     "text": [
      "Sport     \n",
      "Aquatics      4170\n",
      "Athletics     3638\n",
      "Rowing        2667\n",
      "Gymnastics    2307\n",
      "Fencing       1613\n",
      "dtype: int64\n"
     ]
    }
   ],
   "source": [
    "sf = df.drop(['Year', 'City', 'Discipline', 'Athlete', 'Country', 'Gender', 'Event', 'Medal'], axis =1, inplace = False)\n",
    "print(sf.value_counts().iloc[:5])"
   ]
  },
  {
   "cell_type": "markdown",
   "metadata": {},
   "source": [
    "### 4. Which player has won most number of medals? (Top 5)"
   ]
  },
  {
   "cell_type": "code",
   "execution_count": 5,
   "metadata": {},
   "outputs": [
    {
     "name": "stdout",
     "output_type": "stream",
     "text": [
      "Athlete             \n",
      "PHELPS, Michael         22\n",
      "LATYNINA, Larisa        18\n",
      "ANDRIANOV, Nikolay      15\n",
      "MANGIAROTTI, Edoardo    13\n",
      "ONO, Takashi            13\n",
      "dtype: int64\n"
     ]
    }
   ],
   "source": [
    "ef = df.drop(['Year', 'City', 'Sport', 'Discipline', 'Country', 'Gender', 'Event', 'Medal'], axis =1, inplace = False)\n",
    "print(ef.value_counts().iloc[:5])"
   ]
  },
  {
   "cell_type": "markdown",
   "metadata": {},
   "source": [
    "### 5. Which player has won most number Gold Medals of medals? (Top 5)"
   ]
  },
  {
   "cell_type": "code",
   "execution_count": 6,
   "metadata": {
    "scrolled": true
   },
   "outputs": [
    {
     "name": "stdout",
     "output_type": "stream",
     "text": [
      "Athlete           Medal\n",
      "PHELPS, Michael   Gold     18\n",
      "LEWIS, Carl       Gold      9\n",
      "NURMI, Paavo      Gold      9\n",
      "SPITZ, Mark       Gold      9\n",
      "LATYNINA, Larisa  Gold      9\n",
      "dtype: int64\n"
     ]
    }
   ],
   "source": [
    "af = df.drop(['Year', 'City', 'Sport', 'Discipline', 'Country', 'Gender', 'Event'], axis =1, inplace = False)\n",
    "af = af[af['Medal'] == 'Gold']\n",
    "print(af.value_counts().iloc[:5])"
   ]
  },
  {
   "cell_type": "markdown",
   "metadata": {},
   "source": [
    "### 6. In which year India won first Gold Medal in Summer Olympics?"
   ]
  },
  {
   "cell_type": "code",
   "execution_count": 7,
   "metadata": {
    "scrolled": false
   },
   "outputs": [
    {
     "name": "stdout",
     "output_type": "stream",
     "text": [
      "1928\n"
     ]
    }
   ],
   "source": [
    "bf = df.drop(['City', 'Discipline', 'Sport', 'Athlete', 'Gender', 'Event'], axis =1, inplace = False)\n",
    "bf = bf[bf['Country'] == 'IND']\n",
    "bf = bf[bf['Medal'] == 'Gold']\n",
    "print(bf['Year'].iloc[0])"
   ]
  },
  {
   "cell_type": "markdown",
   "metadata": {},
   "source": [
    "### 7. Which event is most popular in terms on number of players? (Top 5)"
   ]
  },
  {
   "cell_type": "code",
   "execution_count": 8,
   "metadata": {
    "scrolled": true
   },
   "outputs": [
    {
     "name": "stdout",
     "output_type": "stream",
     "text": [
      "Event           \n",
      "Football            1497\n",
      "Hockey              1422\n",
      "Team Competition    1147\n",
      "Basketball          1012\n",
      "Handball             973\n",
      "dtype: int64\n"
     ]
    }
   ],
   "source": [
    "cf = df.drop(['Year', 'City', 'Discipline', 'Sport', 'Athlete', 'Country', 'Gender', 'Medal'], axis =1, inplace = False)\n",
    "print(cf.value_counts().head(5))"
   ]
  },
  {
   "cell_type": "markdown",
   "metadata": {},
   "source": [
    "### 8. Which sport is having most female Gold Medalists? (Top 5)"
   ]
  },
  {
   "cell_type": "code",
   "execution_count": 9,
   "metadata": {
    "scrolled": true
   },
   "outputs": [
    {
     "name": "stdout",
     "output_type": "stream",
     "text": [
      "Sport     \n",
      "Aquatics      589\n",
      "Athletics     389\n",
      "Gymnastics    268\n",
      "Rowing        217\n",
      "Volleyball    166\n",
      "dtype: int64\n"
     ]
    }
   ],
   "source": [
    "xf = df.drop(['Year', 'City', 'Discipline', 'Athlete', 'Country', 'Event'], axis =1, inplace = False)\n",
    "xf = xf[xf['Medal'] == 'Gold']\n",
    "xf = xf[xf['Gender'] == 'Women']\n",
    "xf = xf.drop(['Medal', 'Gender'], axis =1, inplace = False)\n",
    "print(xf.value_counts().head(5))"
   ]
  },
  {
   "cell_type": "code",
   "execution_count": null,
   "metadata": {},
   "outputs": [],
   "source": []
  }
 ],
 "metadata": {
  "kernelspec": {
   "display_name": "Python 3",
   "language": "python",
   "name": "python3"
  },
  "language_info": {
   "codemirror_mode": {
    "name": "ipython",
    "version": 3
   },
   "file_extension": ".py",
   "mimetype": "text/x-python",
   "name": "python",
   "nbconvert_exporter": "python",
   "pygments_lexer": "ipython3",
   "version": "3.8.8"
  }
 },
 "nbformat": 4,
 "nbformat_minor": 2
}
